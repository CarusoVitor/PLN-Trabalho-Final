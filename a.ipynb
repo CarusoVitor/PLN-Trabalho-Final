{
 "cells": [
  {
   "cell_type": "code",
   "execution_count": null,
   "metadata": {},
   "outputs": [
    {
     "name": "stdout",
     "output_type": "stream",
     "text": [
      "<class 'pandas.core.frame.DataFrame'>\n",
      "RangeIndex: 2226 entries, 0 to 2225\n",
      "Data columns (total 8 columns):\n",
      " #   Column    Non-Null Count  Dtype \n",
      "---  ------    --------------  ----- \n",
      " 0   id        2226 non-null   object\n",
      " 1   text      2226 non-null   object\n",
      " 2   Anger     2226 non-null   int64 \n",
      " 3   Disgust   2226 non-null   int64 \n",
      " 4   Fear      2226 non-null   int64 \n",
      " 5   Joy       2226 non-null   int64 \n",
      " 6   Sadness   2226 non-null   int64 \n",
      " 7   Surprise  2226 non-null   int64 \n",
      "dtypes: int64(6), object(2)\n",
      "memory usage: 139.2+ KB\n",
      "None\n"
     ]
    }
   ],
   "source": [
    "import pandas as pd\n",
    "import numpy as np\n",
    "\n",
    "\n"
   ]
  },
  {
   "cell_type": "code",
   "execution_count": 10,
   "metadata": {},
   "outputs": [
    {
     "name": "stdout",
     "output_type": "stream",
     "text": [
      "<class 'pandas.core.frame.DataFrame'>\n",
      "RangeIndex: 2226 entries, 0 to 2225\n",
      "Data columns (total 8 columns):\n",
      " #   Column    Non-Null Count  Dtype \n",
      "---  ------    --------------  ----- \n",
      " 0   id        2226 non-null   object\n",
      " 1   text      2226 non-null   object\n",
      " 2   Anger     2226 non-null   int64 \n",
      " 3   Disgust   2226 non-null   int64 \n",
      " 4   Fear      2226 non-null   int64 \n",
      " 5   Joy       2226 non-null   int64 \n",
      " 6   Sadness   2226 non-null   int64 \n",
      " 7   Surprise  2226 non-null   int64 \n",
      "dtypes: int64(6), object(2)\n",
      "memory usage: 139.2+ KB\n",
      "None\n"
     ]
    }
   ],
   "source": [
    "file = 'public_data/train/track_a/ptbr.csv'\n",
    "data = pd.read_csv(file)\n",
    "print(data.info())"
   ]
  }
 ],
 "metadata": {
  "kernelspec": {
   "display_name": "Python 3",
   "language": "python",
   "name": "python3"
  },
  "language_info": {
   "codemirror_mode": {
    "name": "ipython",
    "version": 3
   },
   "file_extension": ".py",
   "mimetype": "text/x-python",
   "name": "python",
   "nbconvert_exporter": "python",
   "pygments_lexer": "ipython3",
   "version": "3.10.12"
  }
 },
 "nbformat": 4,
 "nbformat_minor": 2
}
